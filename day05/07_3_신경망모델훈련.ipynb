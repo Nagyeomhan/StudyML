{
 "cells": [
  {
   "cell_type": "markdown",
   "metadata": {},
   "source": [
    "### 사전준비"
   ]
  },
  {
   "cell_type": "code",
   "execution_count": 83,
   "metadata": {},
   "outputs": [],
   "source": [
    "# 기본적인 패키지 추가\n",
    "import numpy as np\n",
    "import pandas as pd\n",
    "import scipy as sp\n",
    "\n",
    "import matplotlib as mpl\n",
    "import matplotlib.pyplot as plt\n",
    "import seaborn as sns"
   ]
  },
  {
   "cell_type": "code",
   "execution_count": 84,
   "metadata": {},
   "outputs": [],
   "source": [
    "# 한글 / 차트 마이너스\n",
    "from matplotlib import rc\n",
    "import matplotlib.font_manager as fm\n",
    "\n",
    "plt.rc('font', family='NanumSquare')\n",
    "sns.set(font='NanumSquare', rc={'axes.unicode_minus':False}, style='darkgrid')"
   ]
  },
  {
   "cell_type": "markdown",
   "metadata": {},
   "source": [
    "### 패션 MNIST 데이터\n",
    "\n",
    "#### 데이터 로드"
   ]
  },
  {
   "cell_type": "code",
   "execution_count": 85,
   "metadata": {},
   "outputs": [],
   "source": [
    "from tensorflow import keras\n",
    "from tensorflow.keras.datasets.fashion_mnist import load_data\n",
    "from sklearn.model_selection import train_test_split"
   ]
  },
  {
   "cell_type": "code",
   "execution_count": 86,
   "metadata": {},
   "outputs": [],
   "source": [
    "(train_input, train_target), (test_input, test_target) = load_data()"
   ]
  },
  {
   "cell_type": "code",
   "execution_count": 87,
   "metadata": {},
   "outputs": [],
   "source": [
    "train_scaled = train_input / 255.0"
   ]
  },
  {
   "cell_type": "code",
   "execution_count": 88,
   "metadata": {},
   "outputs": [],
   "source": [
    "train_scaled, var_scaled, train_target, var_target = train_test_split(train_scaled, train_target, test_size=0.2, random_state=42)"
   ]
  },
  {
   "cell_type": "code",
   "execution_count": 89,
   "metadata": {},
   "outputs": [],
   "source": [
    "def model_fn(a_layer=None):\n",
    "    model = keras.Sequential(name='model_fn_MakeModel')\n",
    "    model.add(keras.layers.Flatten(input_shape=(28, 28)))   # 2차원 입력값을 1차원으로\n",
    "    model.add(keras.layers.Dense(100, activation='relu', name='hidden'))    # 히든 레이어\n",
    "\n",
    "    if a_layer:\n",
    "        model.add(a_layer)\n",
    "\n",
    "    model.add(keras.layers.Dense(10, activation='softmax', name='output'))\n",
    "\n",
    "    return model"
   ]
  },
  {
   "cell_type": "code",
   "execution_count": 90,
   "metadata": {},
   "outputs": [
    {
     "name": "stdout",
     "output_type": "stream",
     "text": [
      "Model: \"model_fn_MakeModel\"\n",
      "_________________________________________________________________\n",
      " Layer (type)                Output Shape              Param #   \n",
      "=================================================================\n",
      " flatten_17 (Flatten)        (None, 784)               0         \n",
      "                                                                 \n",
      " hidden (Dense)              (None, 100)               78500     \n",
      "                                                                 \n",
      " hidden2 (Dense)             (None, 100)               10100     \n",
      "                                                                 \n",
      " output (Dense)              (None, 10)                1010      \n",
      "                                                                 \n",
      "=================================================================\n",
      "Total params: 89,610\n",
      "Trainable params: 89,610\n",
      "Non-trainable params: 0\n",
      "_________________________________________________________________\n"
     ]
    }
   ],
   "source": [
    "# 함수 사용 예\n",
    "model = model_fn(keras.layers.Dense(100, activation='relu', name='hidden2'))\n",
    "model.summary()"
   ]
  },
  {
   "cell_type": "markdown",
   "metadata": {},
   "source": [
    "#### 손실곡선, 정확도"
   ]
  },
  {
   "cell_type": "code",
   "execution_count": 91,
   "metadata": {},
   "outputs": [
    {
     "name": "stdout",
     "output_type": "stream",
     "text": [
      "Model: \"model_fn_MakeModel\"\n",
      "_________________________________________________________________\n",
      " Layer (type)                Output Shape              Param #   \n",
      "=================================================================\n",
      " flatten_18 (Flatten)        (None, 784)               0         \n",
      "                                                                 \n",
      " hidden (Dense)              (None, 100)               78500     \n",
      "                                                                 \n",
      " output (Dense)              (None, 10)                1010      \n",
      "                                                                 \n",
      "=================================================================\n",
      "Total params: 79,510\n",
      "Trainable params: 79,510\n",
      "Non-trainable params: 0\n",
      "_________________________________________________________________\n"
     ]
    }
   ],
   "source": [
    "# 함수 사용 예\n",
    "model = model_fn()\n",
    "model.summary()"
   ]
  },
  {
   "cell_type": "code",
   "execution_count": 92,
   "metadata": {},
   "outputs": [
    {
     "name": "stdout",
     "output_type": "stream",
     "text": [
      "Epoch 1/5\n",
      "1500/1500 - 2s - loss: 0.5368 - accuracy: 0.8112 - 2s/epoch - 1ms/step\n",
      "Epoch 2/5\n",
      "1500/1500 - 2s - loss: 0.3953 - accuracy: 0.8592 - 2s/epoch - 1ms/step\n",
      "Epoch 3/5\n",
      "1500/1500 - 2s - loss: 0.3572 - accuracy: 0.8719 - 2s/epoch - 1ms/step\n",
      "Epoch 4/5\n",
      "1500/1500 - 2s - loss: 0.3350 - accuracy: 0.8795 - 2s/epoch - 1ms/step\n",
      "Epoch 5/5\n",
      "1500/1500 - 2s - loss: 0.3204 - accuracy: 0.8845 - 2s/epoch - 1ms/step\n"
     ]
    }
   ],
   "source": [
    "model.compile(loss='sparse_categorical_crossentropy', metrics='accuracy')\n",
    "history = model.fit(train_scaled, train_target, epochs=5, verbose=2)"
   ]
  },
  {
   "cell_type": "code",
   "execution_count": 93,
   "metadata": {},
   "outputs": [
    {
     "data": {
      "text/plain": [
       "{'loss': [0.5368476510047913,\n",
       "  0.39530766010284424,\n",
       "  0.3572085499763489,\n",
       "  0.33504360914230347,\n",
       "  0.3203870952129364],\n",
       " 'accuracy': [0.8111666440963745,\n",
       "  0.8592291474342346,\n",
       "  0.871916651725769,\n",
       "  0.8795416951179504,\n",
       "  0.8845208287239075]}"
      ]
     },
     "execution_count": 93,
     "metadata": {},
     "output_type": "execute_result"
    }
   ],
   "source": [
    "history.history     # epoch 돌때마다 변하는것을 차트로 그릴 수 있다"
   ]
  },
  {
   "cell_type": "markdown",
   "metadata": {},
   "source": [
    "#### 손실곡선 차트 / 정확도 차트"
   ]
  },
  {
   "cell_type": "code",
   "execution_count": 94,
   "metadata": {},
   "outputs": [
    {
     "data": {
      "image/png": "[encoded data removed]",
      "text/plain": [
       "<Figure size 720x360 with 1 Axes>"
      ]
     },
     "metadata": {},
     "output_type": "display_data"
    }
   ],
   "source": [
    "plt.figure(figsize=(10, 5))\n",
    "plt.title('손실곡선')\n",
    "\n",
    "plt.plot(history.history['loss'])\n",
    "plt.xlabel('훈련횟수(epoch)')\n",
    "plt.ylabel('손실값')\n",
    "\n",
    "plt.show()"
   ]
  },
  {
   "cell_type": "code",
   "execution_count": 95,
   "metadata": {},
   "outputs": [
    {
     "data": {
      "image/png": "[encoded data removed]",
      "text/plain": [
       "<Figure size 720x360 with 1 Axes>"
      ]
     },
     "metadata": {},
     "output_type": "display_data"
    }
   ],
   "source": [
    "plt.figure(figsize=(10, 5))\n",
    "plt.title('Accuracy Graph')\n",
    "\n",
    "plt.plot(history.history['accuracy'])\n",
    "plt.xlabel('훈련횟수(epoch)')\n",
    "plt.ylabel('정확도')\n",
    "\n",
    "plt.show()"
   ]
  },
  {
   "cell_type": "markdown",
   "metadata": {},
   "source": [
    "#### 에포크 20번 훈련"
   ]
  },
  {
   "cell_type": "code",
   "execution_count": 96,
   "metadata": {},
   "outputs": [
    {
     "name": "stdout",
     "output_type": "stream",
     "text": [
      "Epoch 1/20\n",
      "1500/1500 [==============================] - 3s 2ms/step - loss: 0.5315 - accuracy: 0.8126\n",
      "Epoch 2/20\n",
      "1500/1500 [==============================] - 2s 2ms/step - loss: 0.3918 - accuracy: 0.8597\n",
      "Epoch 3/20\n",
      "1500/1500 [==============================] - 2s 2ms/step - loss: 0.3540 - accuracy: 0.8737\n",
      "Epoch 4/20\n",
      "1500/1500 [==============================] - 2s 1ms/step - loss: 0.3324 - accuracy: 0.8810\n",
      "Epoch 5/20\n",
      "1500/1500 [==============================] - 2s 2ms/step - loss: 0.3166 - accuracy: 0.8863\n",
      "Epoch 6/20\n",
      "1500/1500 [==============================] - 2s 2ms/step - loss: 0.3060 - accuracy: 0.8909\n",
      "Epoch 7/20\n",
      "1500/1500 [==============================] - 2s 2ms/step - loss: 0.2948 - accuracy: 0.8960\n",
      "Epoch 8/20\n",
      "1500/1500 [==============================] - 2s 2ms/step - loss: 0.2901 - accuracy: 0.8978\n",
      "Epoch 9/20\n",
      "1500/1500 [==============================] - 2s 2ms/step - loss: 0.2810 - accuracy: 0.9015\n",
      "Epoch 10/20\n",
      "1500/1500 [==============================] - 2s 2ms/step - loss: 0.2729 - accuracy: 0.9037\n",
      "Epoch 11/20\n",
      "1500/1500 [==============================] - 2s 2ms/step - loss: 0.2685 - accuracy: 0.9066\n",
      "Epoch 12/20\n",
      "1500/1500 [==============================] - 2s 2ms/step - loss: 0.2621 - accuracy: 0.9088\n",
      "Epoch 13/20\n",
      "1500/1500 [==============================] - 3s 2ms/step - loss: 0.2569 - accuracy: 0.9107\n",
      "Epoch 14/20\n",
      "1500/1500 [==============================] - 3s 2ms/step - loss: 0.2532 - accuracy: 0.9133\n",
      "Epoch 15/20\n",
      "1500/1500 [==============================] - 3s 2ms/step - loss: 0.2497 - accuracy: 0.9145\n",
      "Epoch 16/20\n",
      "1500/1500 [==============================] - 3s 2ms/step - loss: 0.2450 - accuracy: 0.9155\n",
      "Epoch 17/20\n",
      "1500/1500 [==============================] - 3s 2ms/step - loss: 0.2383 - accuracy: 0.9164\n",
      "Epoch 18/20\n",
      "1500/1500 [==============================] - 3s 2ms/step - loss: 0.2370 - accuracy: 0.9190\n",
      "Epoch 19/20\n",
      "1500/1500 [==============================] - 3s 2ms/step - loss: 0.2339 - accuracy: 0.9210\n",
      "Epoch 20/20\n",
      "1500/1500 [==============================] - 3s 2ms/step - loss: 0.2278 - accuracy: 0.9226\n"
     ]
    }
   ],
   "source": [
    "model = model_fn()\n",
    "model.compile(loss='sparse_categorical_crossentropy', metrics='accuracy')\n",
    "history = model.fit(train_scaled, train_target, epochs=20)"
   ]
  },
  {
   "cell_type": "code",
   "execution_count": 97,
   "metadata": {},
   "outputs": [
    {
     "data": {
      "image/png": "[encoded data removed]",
      "text/plain": [
       "<Figure size 720x360 with 1 Axes>"
      ]
     },
     "metadata": {},
     "output_type": "display_data"
    }
   ],
   "source": [
    "plt.figure(figsize=(10, 5))\n",
    "\n",
    "plt.plot(history.history['loss'])\n",
    "plt.plot(history.history['accuracy'])\n",
    "plt.xlabel('훈련횟수(epoch)')\n",
    "plt.ylabel('value')\n",
    "\n",
    "plt.show()"
   ]
  },
  {
   "cell_type": "markdown",
   "metadata": {},
   "source": [
    "#### 검증손실\n",
    "훈련세트 훈련 → 정확도 92%"
   ]
  },
  {
   "cell_type": "code",
   "execution_count": 98,
   "metadata": {},
   "outputs": [
    {
     "name": "stdout",
     "output_type": "stream",
     "text": [
      "Epoch 1/20\n",
      "1500/1500 [==============================] - 3s 2ms/step - loss: 0.5236 - accuracy: 0.8145 - val_loss: 0.4269 - val_accuracy: 0.8487\n",
      "Epoch 2/20\n",
      "1500/1500 [==============================] - 3s 2ms/step - loss: 0.3906 - accuracy: 0.8600 - val_loss: 0.3717 - val_accuracy: 0.8727\n",
      "Epoch 3/20\n",
      "1500/1500 [==============================] - 3s 2ms/step - loss: 0.3542 - accuracy: 0.8726 - val_loss: 0.3928 - val_accuracy: 0.8610\n",
      "Epoch 4/20\n",
      "1500/1500 [==============================] - 3s 2ms/step - loss: 0.3324 - accuracy: 0.8817 - val_loss: 0.3700 - val_accuracy: 0.8752\n",
      "Epoch 5/20\n",
      "1500/1500 [==============================] - 3s 2ms/step - loss: 0.3165 - accuracy: 0.8861 - val_loss: 0.3795 - val_accuracy: 0.8717\n",
      "Epoch 6/20\n",
      "1500/1500 [==============================] - 3s 2ms/step - loss: 0.3056 - accuracy: 0.8898 - val_loss: 0.3782 - val_accuracy: 0.8779\n",
      "Epoch 7/20\n",
      "1500/1500 [==============================] - 3s 2ms/step - loss: 0.2971 - accuracy: 0.8953 - val_loss: 0.4555 - val_accuracy: 0.8575\n",
      "Epoch 8/20\n",
      "1500/1500 [==============================] - 3s 2ms/step - loss: 0.2865 - accuracy: 0.8989 - val_loss: 0.3846 - val_accuracy: 0.8797\n",
      "Epoch 9/20\n",
      "1500/1500 [==============================] - 3s 2ms/step - loss: 0.2812 - accuracy: 0.9006 - val_loss: 0.3680 - val_accuracy: 0.8866\n",
      "Epoch 10/20\n",
      "1500/1500 [==============================] - 3s 2ms/step - loss: 0.2722 - accuracy: 0.9040 - val_loss: 0.3963 - val_accuracy: 0.8798\n",
      "Epoch 11/20\n",
      "1500/1500 [==============================] - 3s 2ms/step - loss: 0.2710 - accuracy: 0.9056 - val_loss: 0.4027 - val_accuracy: 0.8818\n",
      "Epoch 12/20\n",
      "1500/1500 [==============================] - 3s 2ms/step - loss: 0.2616 - accuracy: 0.9069 - val_loss: 0.4517 - val_accuracy: 0.8663\n",
      "Epoch 13/20\n",
      "1500/1500 [==============================] - 3s 2ms/step - loss: 0.2577 - accuracy: 0.9117 - val_loss: 0.4006 - val_accuracy: 0.8852\n",
      "Epoch 14/20\n",
      "1500/1500 [==============================] - 3s 2ms/step - loss: 0.2528 - accuracy: 0.9129 - val_loss: 0.4232 - val_accuracy: 0.8779\n",
      "Epoch 15/20\n",
      "1500/1500 [==============================] - 3s 2ms/step - loss: 0.2479 - accuracy: 0.9146 - val_loss: 0.3906 - val_accuracy: 0.8852\n",
      "Epoch 16/20\n",
      "1500/1500 [==============================] - 3s 2ms/step - loss: 0.2419 - accuracy: 0.9164 - val_loss: 0.4154 - val_accuracy: 0.8822\n",
      "Epoch 17/20\n",
      "1500/1500 [==============================] - 3s 2ms/step - loss: 0.2404 - accuracy: 0.9174 - val_loss: 0.4323 - val_accuracy: 0.8866\n",
      "Epoch 18/20\n",
      "1500/1500 [==============================] - 3s 2ms/step - loss: 0.2364 - accuracy: 0.9191 - val_loss: 0.4466 - val_accuracy: 0.8793\n",
      "Epoch 19/20\n",
      "1500/1500 [==============================] - 3s 2ms/step - loss: 0.2295 - accuracy: 0.9210 - val_loss: 0.4538 - val_accuracy: 0.8854\n",
      "Epoch 20/20\n",
      "1500/1500 [==============================] - 3s 2ms/step - loss: 0.2278 - accuracy: 0.9221 - val_loss: 0.4755 - val_accuracy: 0.8863\n"
     ]
    }
   ],
   "source": [
    "model = model_fn()\n",
    "model.compile(loss='sparse_categorical_crossentropy', metrics='accuracy')\n",
    "history = model.fit(train_scaled, train_target, epochs=20,\n",
    "                     validation_data=(var_scaled, var_target))"
   ]
  },
  {
   "cell_type": "code",
   "execution_count": 99,
   "metadata": {},
   "outputs": [
    {
     "data": {
      "text/plain": [
       "dict_keys(['loss', 'accuracy', 'val_loss', 'val_accuracy'])"
      ]
     },
     "execution_count": 99,
     "metadata": {},
     "output_type": "execute_result"
    }
   ],
   "source": [
    "history.history.keys()"
   ]
  },
  {
   "cell_type": "markdown",
   "metadata": {},
   "source": [
    "#### 훈련세트 / 검증세트 비교"
   ]
  },
  {
   "cell_type": "code",
   "execution_count": 100,
   "metadata": {},
   "outputs": [
    {
     "data": {
      "image/png": "[encoded data removed]",
      "text/plain": [
       "<Figure size 720x360 with 1 Axes>"
      ]
     },
     "metadata": {},
     "output_type": "display_data"
    }
   ],
   "source": [
    "plt.figure(figsize=(10, 5))\n",
    "plt.title('손실곡선')\n",
    "\n",
    "plt.plot(history.history['loss'])\n",
    "plt.plot(history.history['val_loss'])\n",
    "plt.xlabel('에포크')\n",
    "plt.ylabel('손실값')\n",
    "plt.legend(['훈련', '검증'])\n",
    "\n",
    "plt.show()"
   ]
  },
  {
   "cell_type": "markdown",
   "metadata": {},
   "source": [
    "#### 드롭아웃"
   ]
  },
  {
   "cell_type": "code",
   "execution_count": 101,
   "metadata": {},
   "outputs": [
    {
     "name": "stdout",
     "output_type": "stream",
     "text": [
      "Model: \"model_fn_MakeModel\"\n",
      "_________________________________________________________________\n",
      " Layer (type)                Output Shape              Param #   \n",
      "=================================================================\n",
      " flatten_21 (Flatten)        (None, 784)               0         \n",
      "                                                                 \n",
      " hidden (Dense)              (None, 100)               78500     \n",
      "                                                                 \n",
      " dropout_10 (Dropout)        (None, 100)               0         \n",
      "                                                                 \n",
      " output (Dense)              (None, 10)                1010      \n",
      "                                                                 \n",
      "=================================================================\n",
      "Total params: 79,510\n",
      "Trainable params: 79,510\n",
      "Non-trainable params: 0\n",
      "_________________________________________________________________\n"
     ]
    }
   ],
   "source": [
    "model2 = model_fn(keras.layers.Dropout(0.3))\n",
    "model2.summary()"
   ]
  },
  {
   "cell_type": "code",
   "execution_count": 102,
   "metadata": {},
   "outputs": [
    {
     "name": "stdout",
     "output_type": "stream",
     "text": [
      "Epoch 1/20\n",
      "1500/1500 [==============================] - 3s 2ms/step - loss: 0.5853 - accuracy: 0.7940 - val_loss: 0.4245 - val_accuracy: 0.8476\n",
      "Epoch 2/20\n",
      "1500/1500 [==============================] - 2s 2ms/step - loss: 0.4390 - accuracy: 0.8421 - val_loss: 0.3888 - val_accuracy: 0.8575\n",
      "Epoch 3/20\n",
      "1500/1500 [==============================] - 2s 2ms/step - loss: 0.4023 - accuracy: 0.8542 - val_loss: 0.3576 - val_accuracy: 0.8694\n",
      "Epoch 4/20\n",
      "1500/1500 [==============================] - 2s 2ms/step - loss: 0.3818 - accuracy: 0.8607 - val_loss: 0.3607 - val_accuracy: 0.8703\n",
      "Epoch 5/20\n",
      "1500/1500 [==============================] - 2s 2ms/step - loss: 0.3644 - accuracy: 0.8675 - val_loss: 0.3506 - val_accuracy: 0.8721\n",
      "Epoch 6/20\n",
      "1500/1500 [==============================] - 2s 2ms/step - loss: 0.3540 - accuracy: 0.8696 - val_loss: 0.3474 - val_accuracy: 0.8761\n",
      "Epoch 7/20\n",
      "1500/1500 [==============================] - 3s 2ms/step - loss: 0.3420 - accuracy: 0.8744 - val_loss: 0.3391 - val_accuracy: 0.8776\n",
      "Epoch 8/20\n",
      "1500/1500 [==============================] - 3s 2ms/step - loss: 0.3372 - accuracy: 0.8767 - val_loss: 0.3321 - val_accuracy: 0.8792\n",
      "Epoch 9/20\n",
      "1500/1500 [==============================] - 3s 2ms/step - loss: 0.3252 - accuracy: 0.8796 - val_loss: 0.3256 - val_accuracy: 0.8800\n",
      "Epoch 10/20\n",
      "1500/1500 [==============================] - 3s 2ms/step - loss: 0.3166 - accuracy: 0.8833 - val_loss: 0.3293 - val_accuracy: 0.8805\n",
      "Epoch 11/20\n",
      "1500/1500 [==============================] - 3s 2ms/step - loss: 0.3102 - accuracy: 0.8852 - val_loss: 0.3372 - val_accuracy: 0.8791\n",
      "Epoch 12/20\n",
      "1500/1500 [==============================] - 3s 2ms/step - loss: 0.3083 - accuracy: 0.8839 - val_loss: 0.3259 - val_accuracy: 0.8831\n",
      "Epoch 13/20\n",
      "1500/1500 [==============================] - 3s 2ms/step - loss: 0.3052 - accuracy: 0.8862 - val_loss: 0.3283 - val_accuracy: 0.8841\n",
      "Epoch 14/20\n",
      "1500/1500 [==============================] - 3s 2ms/step - loss: 0.2993 - accuracy: 0.8886 - val_loss: 0.3273 - val_accuracy: 0.8831\n",
      "Epoch 15/20\n",
      "1500/1500 [==============================] - 3s 2ms/step - loss: 0.2900 - accuracy: 0.8896 - val_loss: 0.3192 - val_accuracy: 0.8878\n",
      "Epoch 16/20\n",
      "1500/1500 [==============================] - 3s 2ms/step - loss: 0.2903 - accuracy: 0.8911 - val_loss: 0.3253 - val_accuracy: 0.8821\n",
      "Epoch 17/20\n",
      "1500/1500 [==============================] - 3s 2ms/step - loss: 0.2862 - accuracy: 0.8923 - val_loss: 0.3239 - val_accuracy: 0.8845\n",
      "Epoch 18/20\n",
      "1500/1500 [==============================] - 3s 2ms/step - loss: 0.2811 - accuracy: 0.8944 - val_loss: 0.3106 - val_accuracy: 0.8912\n",
      "Epoch 19/20\n",
      "1500/1500 [==============================] - 3s 2ms/step - loss: 0.2789 - accuracy: 0.8950 - val_loss: 0.3180 - val_accuracy: 0.8872\n",
      "Epoch 20/20\n",
      "1500/1500 [==============================] - 3s 2ms/step - loss: 0.2769 - accuracy: 0.8957 - val_loss: 0.3231 - val_accuracy: 0.8885\n"
     ]
    }
   ],
   "source": [
    "model2.compile(loss='sparse_categorical_crossentropy', metrics='accuracy', optimizer='adam')\n",
    "history = model2.fit(train_scaled, train_target, epochs=20,\n",
    "                    validation_data=(var_scaled, var_target))"
   ]
  },
  {
   "cell_type": "code",
   "execution_count": 103,
   "metadata": {},
   "outputs": [
    {
     "data": {
      "image/png": "[encoded data removed]",
      "text/plain": [
       "<Figure size 720x360 with 1 Axes>"
      ]
     },
     "metadata": {},
     "output_type": "display_data"
    }
   ],
   "source": [
    "plt.figure(figsize=(10, 5))\n",
    "plt.title('손실곡선')\n",
    "\n",
    "plt.plot(history.history['loss'])\n",
    "plt.plot(history.history['val_loss'])\n",
    "plt.xlabel('에포크')\n",
    "plt.ylabel('손실값')\n",
    "plt.legend(['훈련', '검증'])\n",
    "\n",
    "plt.show()"
   ]
  },
  {
   "cell_type": "markdown",
   "metadata": {},
   "source": [
    "#### 모델 저장 / 로드"
   ]
  },
  {
   "cell_type": "code",
   "execution_count": 104,
   "metadata": {},
   "outputs": [],
   "source": [
    "# 훈련된 가중치만 저장\n",
    "model2.save_weights('../data/model-weights.h5')"
   ]
  },
  {
   "cell_type": "code",
   "execution_count": 105,
   "metadata": {},
   "outputs": [],
   "source": [
    "# 훈련된 전체데이터 저장\n",
    "model2.save('../data/best_model.h5')"
   ]
  },
  {
   "cell_type": "markdown",
   "metadata": {},
   "source": [
    "##### 가중치 모델 로드"
   ]
  },
  {
   "cell_type": "code",
   "execution_count": 106,
   "metadata": {},
   "outputs": [],
   "source": [
    "model = model_fn(keras.layers.Dropout(0.3))\n",
    "model.load_weights('../data/model-weights.h5')"
   ]
  },
  {
   "cell_type": "code",
   "execution_count": 107,
   "metadata": {},
   "outputs": [
    {
     "ename": "RuntimeError",
     "evalue": "You must compile your model before training/testing. Use `model.compile(optimizer, loss)`.",
     "output_type": "error",
     "traceback": [
      "\u001b[1;31m---------------------------------------------------------------------------\u001b[0m",
      "\u001b[1;31mRuntimeError\u001b[0m                              Traceback (most recent call last)",
      "\u001b[1;32mc:\\Users\\admin\\Documents\\GitHub\\StudyML\\day05\\07_3_신경망모델훈련.ipynb 셀 35\u001b[0m in \u001b[0;36m<cell line: 2>\u001b[1;34m()\u001b[0m\n\u001b[0;32m      <a href='vscode-notebook-cell:/c%3A/Users/admin/Documents/GitHub/StudyML/day05/07_3_%EC%8B%A0%EA%B2%BD%EB%A7%9D%EB%AA%A8%EB%8D%B8%ED%9B%88%EB%A0%A8.ipynb#X54sZmlsZQ%3D%3D?line=0'>1</a>\u001b[0m \u001b[39m# 가중치만 불러왔기 때문에 evaluate가 안 됨\u001b[39;00m\n\u001b[1;32m----> <a href='vscode-notebook-cell:/c%3A/Users/admin/Documents/GitHub/StudyML/day05/07_3_%EC%8B%A0%EA%B2%BD%EB%A7%9D%EB%AA%A8%EB%8D%B8%ED%9B%88%EB%A0%A8.ipynb#X54sZmlsZQ%3D%3D?line=1'>2</a>\u001b[0m model\u001b[39m.\u001b[39;49mevaluate(var_scaled, var_target)\n",
      "File \u001b[1;32m~\\AppData\\Local\\Packages\\PythonSoftwareFoundation.Python.3.10_qbz5n2kfra8p0\\LocalCache\\local-packages\\Python310\\site-packages\\keras\\utils\\traceback_utils.py:67\u001b[0m, in \u001b[0;36mfilter_traceback.<locals>.error_handler\u001b[1;34m(*args, **kwargs)\u001b[0m\n\u001b[0;32m     65\u001b[0m \u001b[39mexcept\u001b[39;00m \u001b[39mException\u001b[39;00m \u001b[39mas\u001b[39;00m e:  \u001b[39m# pylint: disable=broad-except\u001b[39;00m\n\u001b[0;32m     66\u001b[0m   filtered_tb \u001b[39m=\u001b[39m _process_traceback_frames(e\u001b[39m.\u001b[39m__traceback__)\n\u001b[1;32m---> 67\u001b[0m   \u001b[39mraise\u001b[39;00m e\u001b[39m.\u001b[39mwith_traceback(filtered_tb) \u001b[39mfrom\u001b[39;00m \u001b[39mNone\u001b[39m\n\u001b[0;32m     68\u001b[0m \u001b[39mfinally\u001b[39;00m:\n\u001b[0;32m     69\u001b[0m   \u001b[39mdel\u001b[39;00m filtered_tb\n",
      "File \u001b[1;32m~\\AppData\\Local\\Packages\\PythonSoftwareFoundation.Python.3.10_qbz5n2kfra8p0\\LocalCache\\local-packages\\Python310\\site-packages\\keras\\engine\\training.py:3160\u001b[0m, in \u001b[0;36mModel._assert_compile_was_called\u001b[1;34m(self)\u001b[0m\n\u001b[0;32m   3154\u001b[0m \u001b[39mdef\u001b[39;00m \u001b[39m_assert_compile_was_called\u001b[39m(\u001b[39mself\u001b[39m):\n\u001b[0;32m   3155\u001b[0m   \u001b[39m# Checks whether `compile` has been called. If it has been called,\u001b[39;00m\n\u001b[0;32m   3156\u001b[0m   \u001b[39m# then the optimizer is set. This is different from whether the\u001b[39;00m\n\u001b[0;32m   3157\u001b[0m   \u001b[39m# model is compiled\u001b[39;00m\n\u001b[0;32m   3158\u001b[0m   \u001b[39m# (i.e. whether the model is built and its inputs/outputs are set).\u001b[39;00m\n\u001b[0;32m   3159\u001b[0m   \u001b[39mif\u001b[39;00m \u001b[39mnot\u001b[39;00m \u001b[39mself\u001b[39m\u001b[39m.\u001b[39m_is_compiled:\n\u001b[1;32m-> 3160\u001b[0m     \u001b[39mraise\u001b[39;00m \u001b[39mRuntimeError\u001b[39;00m(\u001b[39m'\u001b[39m\u001b[39mYou must compile your model before \u001b[39m\u001b[39m'\u001b[39m\n\u001b[0;32m   3161\u001b[0m                        \u001b[39m'\u001b[39m\u001b[39mtraining/testing. \u001b[39m\u001b[39m'\u001b[39m\n\u001b[0;32m   3162\u001b[0m                        \u001b[39m'\u001b[39m\u001b[39mUse `model.compile(optimizer, loss)`.\u001b[39m\u001b[39m'\u001b[39m)\n",
      "\u001b[1;31mRuntimeError\u001b[0m: You must compile your model before training/testing. Use `model.compile(optimizer, loss)`."
     ]
    }
   ],
   "source": [
    "# 가중치만 불러왔기 때문에 evaluate가 안 됨\n",
    "model.evaluate(var_scaled, var_target)"
   ]
  },
  {
   "cell_type": "markdown",
   "metadata": {},
   "source": [
    "##### 전체 모델 로드"
   ]
  },
  {
   "cell_type": "code",
   "execution_count": 108,
   "metadata": {},
   "outputs": [
    {
     "name": "stdout",
     "output_type": "stream",
     "text": [
      "375/375 [==============================] - 1s 1ms/step - loss: 0.3231 - accuracy: 0.8885\n"
     ]
    },
    {
     "data": {
      "text/plain": [
       "[0.3231373727321625, 0.8884999752044678]"
      ]
     },
     "execution_count": 108,
     "metadata": {},
     "output_type": "execute_result"
    }
   ],
   "source": [
    "model = keras.models.load_model('../data/best_model.h5')\n",
    "model.evaluate(var_scaled, var_target)"
   ]
  },
  {
   "cell_type": "markdown",
   "metadata": {},
   "source": [
    "가중치만 저장하면 모델 기능에 제약이 있다. 모델 전체 데이터를 저장하면 모든 기능을 수행할 수 있다."
   ]
  },
  {
   "cell_type": "code",
   "execution_count": 109,
   "metadata": {},
   "outputs": [
    {
     "name": "stdout",
     "output_type": "stream",
     "text": [
      "375/375 [==============================] - 0s 1ms/step\n"
     ]
    },
    {
     "data": {
      "text/plain": [
       "array([[1.14678015e-13, 1.56922938e-22, 1.88360805e-17, ...,\n",
       "        4.44706655e-15, 1.00000000e+00, 6.18516031e-19],\n",
       "       [6.94389769e-07, 6.84697230e-17, 2.51344900e-08, ...,\n",
       "        5.12386832e-15, 9.99998569e-01, 2.59292587e-13],\n",
       "       [4.08029133e-13, 4.27689188e-13, 9.03452042e-19, ...,\n",
       "        9.99944091e-01, 5.36532971e-11, 6.20716207e-08],\n",
       "       ...,\n",
       "       [7.26485837e-07, 2.16889668e-15, 1.29392630e-09, ...,\n",
       "        8.66351324e-10, 9.99999166e-01, 2.71102980e-08],\n",
       "       [8.79388489e-12, 7.86906247e-22, 1.84228880e-13, ...,\n",
       "        1.72195248e-19, 1.00000000e+00, 1.00216990e-21],\n",
       "       [3.03398281e-01, 2.24354358e-06, 8.62666420e-05, ...,\n",
       "        2.61028908e-04, 1.06461914e-04, 8.55317048e-04]], dtype=float32)"
      ]
     },
     "execution_count": 109,
     "metadata": {},
     "output_type": "execute_result"
    }
   ],
   "source": [
    "model.predict(var_scaled)"
   ]
  },
  {
   "cell_type": "code",
   "execution_count": 110,
   "metadata": {},
   "outputs": [
    {
     "name": "stdout",
     "output_type": "stream",
     "text": [
      "375/375 [==============================] - 0s 1ms/step\n"
     ]
    },
    {
     "data": {
      "text/plain": [
       "0.8885"
      ]
     },
     "execution_count": 110,
     "metadata": {},
     "output_type": "execute_result"
    }
   ],
   "source": [
    "### 예측결과\n",
    "val_labels = np.argmax(model.predict(var_scaled), axis=-1)\n",
    "np.mean(val_labels == var_target)"
   ]
  },
  {
   "cell_type": "markdown",
   "metadata": {},
   "source": [
    "#### 콜백(callback)"
   ]
  },
  {
   "cell_type": "code",
   "execution_count": 111,
   "metadata": {},
   "outputs": [],
   "source": [
    "model = model_fn(keras.layers.Dropout(0.3))\n",
    "model.compile(loss='sparse_categorical_crossentropy', metrics='accuracy', optimizer='adam')"
   ]
  },
  {
   "cell_type": "code",
   "execution_count": 112,
   "metadata": {},
   "outputs": [
    {
     "name": "stdout",
     "output_type": "stream",
     "text": [
      "Epoch 1/20\n",
      "1500/1500 [==============================] - 3s 2ms/step - loss: 0.5926 - accuracy: 0.7937 - val_loss: 0.4306 - val_accuracy: 0.8433\n",
      "Epoch 2/20\n",
      "1500/1500 [==============================] - 3s 2ms/step - loss: 0.4429 - accuracy: 0.8413 - val_loss: 0.3917 - val_accuracy: 0.8588\n",
      "Epoch 3/20\n",
      "1500/1500 [==============================] - 2s 2ms/step - loss: 0.4050 - accuracy: 0.8527 - val_loss: 0.3681 - val_accuracy: 0.8640\n",
      "Epoch 4/20\n",
      "1500/1500 [==============================] - 3s 2ms/step - loss: 0.3849 - accuracy: 0.8597 - val_loss: 0.3638 - val_accuracy: 0.8653\n",
      "Epoch 5/20\n",
      "1500/1500 [==============================] - 2s 2ms/step - loss: 0.3656 - accuracy: 0.8680 - val_loss: 0.3519 - val_accuracy: 0.8711\n",
      "Epoch 6/20\n",
      "1500/1500 [==============================] - 2s 2ms/step - loss: 0.3548 - accuracy: 0.8702 - val_loss: 0.3416 - val_accuracy: 0.8762\n",
      "Epoch 7/20\n",
      "1500/1500 [==============================] - 2s 2ms/step - loss: 0.3459 - accuracy: 0.8721 - val_loss: 0.3301 - val_accuracy: 0.8808\n",
      "Epoch 8/20\n",
      "1500/1500 [==============================] - 3s 2ms/step - loss: 0.3373 - accuracy: 0.8741 - val_loss: 0.3313 - val_accuracy: 0.8810\n",
      "Epoch 9/20\n",
      "1500/1500 [==============================] - 3s 2ms/step - loss: 0.3273 - accuracy: 0.8792 - val_loss: 0.3326 - val_accuracy: 0.8773\n",
      "Epoch 10/20\n",
      "1500/1500 [==============================] - 3s 2ms/step - loss: 0.3226 - accuracy: 0.8800 - val_loss: 0.3243 - val_accuracy: 0.8811\n",
      "Epoch 11/20\n",
      "1500/1500 [==============================] - 3s 2ms/step - loss: 0.3144 - accuracy: 0.8835 - val_loss: 0.3241 - val_accuracy: 0.8832\n",
      "Epoch 12/20\n",
      "1500/1500 [==============================] - 3s 2ms/step - loss: 0.3124 - accuracy: 0.8831 - val_loss: 0.3202 - val_accuracy: 0.8848\n",
      "Epoch 13/20\n",
      "1500/1500 [==============================] - 3s 2ms/step - loss: 0.3040 - accuracy: 0.8859 - val_loss: 0.3197 - val_accuracy: 0.8850\n",
      "Epoch 14/20\n",
      "1500/1500 [==============================] - 3s 2ms/step - loss: 0.2992 - accuracy: 0.8879 - val_loss: 0.3217 - val_accuracy: 0.8838\n",
      "Epoch 15/20\n",
      "1500/1500 [==============================] - 3s 2ms/step - loss: 0.2952 - accuracy: 0.8896 - val_loss: 0.3211 - val_accuracy: 0.8816\n",
      "Epoch 16/20\n",
      "1500/1500 [==============================] - 3s 2ms/step - loss: 0.2919 - accuracy: 0.8890 - val_loss: 0.3172 - val_accuracy: 0.8861\n",
      "Epoch 17/20\n",
      "1500/1500 [==============================] - 3s 2ms/step - loss: 0.2870 - accuracy: 0.8932 - val_loss: 0.3307 - val_accuracy: 0.8805\n",
      "Epoch 18/20\n",
      "1500/1500 [==============================] - 3s 2ms/step - loss: 0.2842 - accuracy: 0.8927 - val_loss: 0.3326 - val_accuracy: 0.8804\n",
      "Epoch 19/20\n",
      "1500/1500 [==============================] - 3s 2ms/step - loss: 0.2821 - accuracy: 0.8930 - val_loss: 0.3211 - val_accuracy: 0.8854\n",
      "Epoch 20/20\n",
      "1500/1500 [==============================] - 3s 2ms/step - loss: 0.2780 - accuracy: 0.8950 - val_loss: 0.3164 - val_accuracy: 0.8899\n"
     ]
    },
    {
     "data": {
      "text/plain": [
       "<keras.callbacks.History at 0x1d8987f32b0>"
      ]
     },
     "execution_count": 112,
     "metadata": {},
     "output_type": "execute_result"
    }
   ],
   "source": [
    "# 베스트 모델을 저장할 콜백\n",
    "# save_best_only=True 를 써야 가장 좋은 모델이 저장됨\n",
    "checkpoint_cb = keras.callbacks.ModelCheckpoint('../data/best_model.h5', save_best_only=True)\n",
    "model.fit(train_scaled, train_target, epochs=20, verbose=1, validation_data=(var_scaled, var_target), callbacks=[checkpoint_cb])"
   ]
  },
  {
   "cell_type": "code",
   "execution_count": 113,
   "metadata": {},
   "outputs": [
    {
     "name": "stdout",
     "output_type": "stream",
     "text": [
      "375/375 [==============================] - 1s 1ms/step - loss: 0.3164 - accuracy: 0.8899\n"
     ]
    },
    {
     "data": {
      "text/plain": [
       "[0.31641367077827454, 0.8899166584014893]"
      ]
     },
     "execution_count": 113,
     "metadata": {},
     "output_type": "execute_result"
    }
   ],
   "source": [
    "# 체크포인트 확인\n",
    "model = keras.models.load_model('../data/best_model.h5')\n",
    "model.evaluate(var_scaled, var_target)"
   ]
  },
  {
   "cell_type": "markdown",
   "metadata": {},
   "source": [
    "#### 조기종료"
   ]
  },
  {
   "cell_type": "code",
   "execution_count": 114,
   "metadata": {},
   "outputs": [
    {
     "name": "stdout",
     "output_type": "stream",
     "text": [
      "Epoch 1/20\n",
      "1480/1500 [============================>.] - ETA: 0s - loss: 0.5962 - accuracy: 0.7893\n",
      "Epoch 1: val_loss improved from inf to 0.41982, saving model to ../data\\best_model.h5\n",
      "1500/1500 [==============================] - 3s 2ms/step - loss: 0.5940 - accuracy: 0.7901 - val_loss: 0.4198 - val_accuracy: 0.8503\n",
      "Epoch 2/20\n",
      "1491/1500 [============================>.] - ETA: 0s - loss: 0.4367 - accuracy: 0.8439\n",
      "Epoch 2: val_loss improved from 0.41982 to 0.39472, saving model to ../data\\best_model.h5\n",
      "1500/1500 [==============================] - 3s 2ms/step - loss: 0.4372 - accuracy: 0.8436 - val_loss: 0.3947 - val_accuracy: 0.8553\n",
      "Epoch 3/20\n",
      "1472/1500 [============================>.] - ETA: 0s - loss: 0.4009 - accuracy: 0.8539\n",
      "Epoch 3: val_loss improved from 0.39472 to 0.37950, saving model to ../data\\best_model.h5\n",
      "1500/1500 [==============================] - 2s 2ms/step - loss: 0.4018 - accuracy: 0.8537 - val_loss: 0.3795 - val_accuracy: 0.8630\n",
      "Epoch 4/20\n",
      "1489/1500 [============================>.] - ETA: 0s - loss: 0.3795 - accuracy: 0.8623\n",
      "Epoch 4: val_loss improved from 0.37950 to 0.34862, saving model to ../data\\best_model.h5\n",
      "1500/1500 [==============================] - 3s 2ms/step - loss: 0.3794 - accuracy: 0.8622 - val_loss: 0.3486 - val_accuracy: 0.8751\n",
      "Epoch 5/20\n",
      "1493/1500 [============================>.] - ETA: 0s - loss: 0.3615 - accuracy: 0.8683\n",
      "Epoch 5: val_loss improved from 0.34862 to 0.34173, saving model to ../data\\best_model.h5\n",
      "1500/1500 [==============================] - 3s 2ms/step - loss: 0.3616 - accuracy: 0.8683 - val_loss: 0.3417 - val_accuracy: 0.8741\n",
      "Epoch 6/20\n",
      "1493/1500 [============================>.] - ETA: 0s - loss: 0.3512 - accuracy: 0.8717\n",
      "Epoch 6: val_loss did not improve from 0.34173\n",
      "1500/1500 [==============================] - 3s 2ms/step - loss: 0.3509 - accuracy: 0.8719 - val_loss: 0.3426 - val_accuracy: 0.8764\n",
      "Epoch 7/20\n",
      "1483/1500 [============================>.] - ETA: 0s - loss: 0.3407 - accuracy: 0.8745\n",
      "Epoch 7: val_loss improved from 0.34173 to 0.32947, saving model to ../data\\best_model.h5\n",
      "1500/1500 [==============================] - 3s 2ms/step - loss: 0.3408 - accuracy: 0.8743 - val_loss: 0.3295 - val_accuracy: 0.8824\n",
      "Epoch 8/20\n",
      "1493/1500 [============================>.] - ETA: 0s - loss: 0.3311 - accuracy: 0.8764\n",
      "Epoch 8: val_loss did not improve from 0.32947\n",
      "1500/1500 [==============================] - 3s 2ms/step - loss: 0.3315 - accuracy: 0.8764 - val_loss: 0.3306 - val_accuracy: 0.8795\n",
      "Epoch 9/20\n",
      "1498/1500 [============================>.] - ETA: 0s - loss: 0.3233 - accuracy: 0.8806\n",
      "Epoch 9: val_loss did not improve from 0.32947\n",
      "1500/1500 [==============================] - 6s 4ms/step - loss: 0.3232 - accuracy: 0.8807 - val_loss: 0.3324 - val_accuracy: 0.8794\n"
     ]
    }
   ],
   "source": [
    "model = model_fn(keras.layers.Dropout(0.3))\n",
    "model.compile(loss='sparse_categorical_crossentropy', metrics='accuracy', optimizer='adam')\n",
    "\n",
    "checkpoint_cb = keras.callbacks.ModelCheckpoint('../data/best_model.h5', save_best_only=True, verbose=1)\n",
    "early_stopping_cb = keras.callbacks.EarlyStopping(patience=2, restore_best_weights=True)\n",
    "history = model.fit(train_scaled, train_target, epochs=20, verbose=1,\n",
    "                    validation_data=(var_scaled, var_target), callbacks=[checkpoint_cb, early_stopping_cb])"
   ]
  },
  {
   "cell_type": "code",
   "execution_count": 115,
   "metadata": {},
   "outputs": [
    {
     "data": {
      "image/png": "[encoded data removed]",
      "text/plain": [
       "<Figure size 720x360 with 1 Axes>"
      ]
     },
     "metadata": {},
     "output_type": "display_data"
    }
   ],
   "source": [
    "plt.figure(figsize=(10, 5))\n",
    "plt.title('손실곡선')\n",
    "\n",
    "plt.plot(history.history['loss'])\n",
    "plt.plot(history.history['val_loss'])\n",
    "plt.xlabel('에포크')\n",
    "plt.ylabel('손실값')\n",
    "plt.legend(['훈련', '검증'])\n",
    "\n",
    "plt.show()"
   ]
  },
  {
   "cell_type": "code",
   "execution_count": 116,
   "metadata": {},
   "outputs": [
    {
     "data": {
      "text/plain": [
       "8"
      ]
     },
     "execution_count": 116,
     "metadata": {},
     "output_type": "execute_result"
    }
   ],
   "source": [
    "# 어느 에포크에서 조기종료했는지 확인\n",
    "early_stopping_cb.stopped_epoch"
   ]
  },
  {
   "cell_type": "code",
   "execution_count": 117,
   "metadata": {},
   "outputs": [
    {
     "name": "stdout",
     "output_type": "stream",
     "text": [
      "375/375 [==============================] - 1s 1ms/step - loss: 0.3295 - accuracy: 0.8824\n"
     ]
    },
    {
     "data": {
      "text/plain": [
       "[0.32946550846099854, 0.8824166655540466]"
      ]
     },
     "execution_count": 117,
     "metadata": {},
     "output_type": "execute_result"
    }
   ],
   "source": [
    "model.evaluate(var_scaled, var_target)"
   ]
  },
  {
   "cell_type": "code",
   "execution_count": 118,
   "metadata": {},
   "outputs": [
    {
     "name": "stdout",
     "output_type": "stream",
     "text": [
      "375/375 [==============================] - 0s 1ms/step\n"
     ]
    },
    {
     "data": {
      "text/plain": [
       "0.8824166666666666"
      ]
     },
     "execution_count": 118,
     "metadata": {},
     "output_type": "execute_result"
    }
   ],
   "source": [
    "### 예측결과\n",
    "val_labels = np.argmax(model.predict(var_scaled), axis=-1)\n",
    "np.mean(val_labels == var_target)"
   ]
  },
  {
   "cell_type": "code",
   "execution_count": 119,
   "metadata": {},
   "outputs": [
    {
     "data": {
      "text/plain": [
       "array([8, 8, 7, 4, 8, 4, 1, 0, 4, 5], dtype=int64)"
      ]
     },
     "execution_count": 119,
     "metadata": {},
     "output_type": "execute_result"
    }
   ],
   "source": [
    "val_labels[:10]"
   ]
  }
 ],
 "metadata": {
  "kernelspec": {
   "display_name": "Python 3.10.5 64-bit (windows store)",
   "language": "python",
   "name": "python3"
  },
  "language_info": {
   "codemirror_mode": {
    "name": "ipython",
    "version": 3
   },
   "file_extension": ".py",
   "mimetype": "text/x-python",
   "name": "python",
   "nbconvert_exporter": "python",
   "pygments_lexer": "ipython3",
   "version": "3.10.5"
  },
  "orig_nbformat": 4,
  "vscode": {
   "interpreter": {
    "hash": "8bf0d51478355d2251941b3b98616086516a0eddd7c72ee47a3371765770709a"
   }
  }
 },
 "nbformat": 4,
 "nbformat_minor": 2
}
