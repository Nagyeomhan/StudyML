{
 "cells": [
  {
   "cell_type": "markdown",
   "metadata": {},
   "source": [
    "### 사전준비"
   ]
  },
  {
   "cell_type": "code",
   "execution_count": 1,
   "metadata": {},
   "outputs": [],
   "source": [
    "# 기본적인 패키지 추가\n",
    "import numpy as np\n",
    "import pandas as pd\n",
    "import scipy as sp\n",
    "\n",
    "import matplotlib as mpl\n",
    "import matplotlib.pyplot as plt\n",
    "import seaborn as sns"
   ]
  },
  {
   "cell_type": "code",
   "execution_count": 2,
   "metadata": {},
   "outputs": [],
   "source": [
    "# 한글 / 차트 마이너스\n",
    "from matplotlib import rc\n",
    "import matplotlib.font_manager as fm\n",
    "\n",
    "plt.rc('font', family='NanumSquare')\n",
    "sns.set(font='NanumSquare', rc={'axes.unicode_minus':False}, style='darkgrid')"
   ]
  },
  {
   "cell_type": "markdown",
   "metadata": {},
   "source": [
    "### 합성곱신경망 이미지 분류"
   ]
  },
  {
   "cell_type": "code",
   "execution_count": 3,
   "metadata": {},
   "outputs": [],
   "source": [
    "from tensorflow import keras\n",
    "from tensorflow.keras.datasets.fashion_mnist import load_data\n",
    "from sklearn.model_selection import train_test_split"
   ]
  },
  {
   "cell_type": "code",
   "execution_count": 4,
   "metadata": {},
   "outputs": [],
   "source": [
    "(train_input, train_target), (test_input, test_target) = load_data()"
   ]
  },
  {
   "cell_type": "code",
   "execution_count": 6,
   "metadata": {},
   "outputs": [
    {
     "data": {
      "text/plain": [
       "(60000, 28, 28, 1)"
      ]
     },
     "execution_count": 6,
     "metadata": {},
     "output_type": "execute_result"
    }
   ],
   "source": [
    "train_scaled = train_input.reshape(-1, 28, 28, 1) / 255.0   # 1: 이미지값을 넣을 부분\n",
    "train_scaled.shape"
   ]
  },
  {
   "cell_type": "code",
   "execution_count": 7,
   "metadata": {},
   "outputs": [],
   "source": [
    "train_scaled, val_scaled, train_target, val_target = train_test_split(train_scaled, train_target, test_size=0.2, random_state=42)"
   ]
  },
  {
   "cell_type": "code",
   "execution_count": 10,
   "metadata": {},
   "outputs": [
    {
     "name": "stdout",
     "output_type": "stream",
     "text": [
      "(48000, 28, 28, 1) (48000,)\n",
      "(12000, 28, 28, 1) (12000,)\n"
     ]
    }
   ],
   "source": [
    "print(train_scaled.shape, train_target.shape)\n",
    "print(val_scaled.shape, val_target.shape)"
   ]
  },
  {
   "cell_type": "markdown",
   "metadata": {},
   "source": [
    "#### 합성곱 신경망 만들기"
   ]
  },
  {
   "cell_type": "code",
   "execution_count": 12,
   "metadata": {},
   "outputs": [],
   "source": [
    "model = keras.Sequential()\n",
    "\n",
    "model.add(keras.layers.Conv2D(32, kernel_size=3, activation='relu',\n",
    "                                  padding='same',   # 똑같이 28x28로 만듬\n",
    "                                  input_shape=(28, 28, 1)))\n",
    "model.add(keras.layers.MaxPooling2D(2))     # 14x14 특성맵이 32개 만들어짐\n",
    "model.add(keras.layers.Conv2D(64, kernel_size=3, activation='relu', padding='same'))\n",
    "model.add(keras.layers.MaxPooling2D(2))     # 7x7 특성맵이 64개 만들어짐"
   ]
  },
  {
   "cell_type": "code",
   "execution_count": 14,
   "metadata": {},
   "outputs": [],
   "source": [
    "model.add(keras.layers.Flatten())   # 7x7 특성맵들을 다 펼쳐준다\n",
    "model.add(keras.layers.Dense(100, activation='relu'))\n",
    "model.add(keras.layers.Dropout(0.4))    # 100개 중에서 60개 노드만 통과\n",
    "model.add(keras.layers.Dense(10, activation='softmax'))"
   ]
  },
  {
   "cell_type": "code",
   "execution_count": 15,
   "metadata": {},
   "outputs": [
    {
     "name": "stdout",
     "output_type": "stream",
     "text": [
      "Model: \"sequential_1\"\n",
      "_________________________________________________________________\n",
      " Layer (type)                Output Shape              Param #   \n",
      "=================================================================\n",
      " conv2d_1 (Conv2D)           (None, 28, 28, 32)        320       \n",
      "                                                                 \n",
      " max_pooling2d_1 (MaxPooling  (None, 14, 14, 32)       0         \n",
      " 2D)                                                             \n",
      "                                                                 \n",
      " conv2d_2 (Conv2D)           (None, 14, 14, 64)        18496     \n",
      "                                                                 \n",
      " max_pooling2d_2 (MaxPooling  (None, 7, 7, 64)         0         \n",
      " 2D)                                                             \n",
      "                                                                 \n",
      " flatten (Flatten)           (None, 3136)              0         \n",
      "                                                                 \n",
      " dense (Dense)               (None, 100)               313700    \n",
      "                                                                 \n",
      " dropout (Dropout)           (None, 100)               0         \n",
      "                                                                 \n",
      " dense_1 (Dense)             (None, 10)                1010      \n",
      "                                                                 \n",
      "=================================================================\n",
      "Total params: 333,526\n",
      "Trainable params: 333,526\n",
      "Non-trainable params: 0\n",
      "_________________________________________________________________\n"
     ]
    }
   ],
   "source": [
    "model.summary()"
   ]
  },
  {
   "cell_type": "code",
   "execution_count": 16,
   "metadata": {},
   "outputs": [
    {
     "name": "stdout",
     "output_type": "stream",
     "text": [
      "You must install pydot (`pip install pydot`) and install graphviz (see instructions at https://graphviz.gitlab.io/download/) for plot_model/model_to_dot to work.\n"
     ]
    }
   ],
   "source": [
    "keras.utils.plot_model(model)   # 설치가 잘 안된다고 한다"
   ]
  },
  {
   "cell_type": "markdown",
   "metadata": {},
   "source": [
    "#### 모델 컴파일 훈련"
   ]
  },
  {
   "cell_type": "code",
   "execution_count": 17,
   "metadata": {},
   "outputs": [
    {
     "name": "stdout",
     "output_type": "stream",
     "text": [
      "Epoch 1/20\n",
      "1499/1500 [============================>.] - ETA: 0s - loss: 0.5414 - accuracy: 0.8057\n",
      "Epoch 1: val_loss improved from inf to 0.33620, saving model to ../data\\best_cnn_model.h5\n",
      "1500/1500 [==============================] - 29s 19ms/step - loss: 0.5413 - accuracy: 0.8057 - val_loss: 0.3362 - val_accuracy: 0.8791\n",
      "Epoch 2/20\n",
      "1499/1500 [============================>.] - ETA: 0s - loss: 0.3584 - accuracy: 0.8700\n",
      "Epoch 2: val_loss improved from 0.33620 to 0.29833, saving model to ../data\\best_cnn_model.h5\n",
      "1500/1500 [==============================] - 32s 21ms/step - loss: 0.3583 - accuracy: 0.8701 - val_loss: 0.2983 - val_accuracy: 0.8898\n",
      "Epoch 3/20\n",
      "1500/1500 [==============================] - ETA: 0s - loss: 0.3101 - accuracy: 0.8897\n",
      "Epoch 3: val_loss improved from 0.29833 to 0.26663, saving model to ../data\\best_cnn_model.h5\n",
      "1500/1500 [==============================] - 33s 22ms/step - loss: 0.3101 - accuracy: 0.8897 - val_loss: 0.2666 - val_accuracy: 0.9049\n",
      "Epoch 4/20\n",
      "1498/1500 [============================>.] - ETA: 0s - loss: 0.2775 - accuracy: 0.9002\n",
      "Epoch 4: val_loss improved from 0.26663 to 0.24908, saving model to ../data\\best_cnn_model.h5\n",
      "1500/1500 [==============================] - 33s 22ms/step - loss: 0.2777 - accuracy: 0.9001 - val_loss: 0.2491 - val_accuracy: 0.9093\n",
      "Epoch 5/20\n",
      "1499/1500 [============================>.] - ETA: 0s - loss: 0.2542 - accuracy: 0.9087\n",
      "Epoch 5: val_loss improved from 0.24908 to 0.22484, saving model to ../data\\best_cnn_model.h5\n",
      "1500/1500 [==============================] - 39s 26ms/step - loss: 0.2542 - accuracy: 0.9086 - val_loss: 0.2248 - val_accuracy: 0.9168\n",
      "Epoch 6/20\n",
      "1500/1500 [==============================] - ETA: 0s - loss: 0.2330 - accuracy: 0.9154\n",
      "Epoch 6: val_loss improved from 0.22484 to 0.22151, saving model to ../data\\best_cnn_model.h5\n",
      "1500/1500 [==============================] - 38s 25ms/step - loss: 0.2330 - accuracy: 0.9154 - val_loss: 0.2215 - val_accuracy: 0.9178\n",
      "Epoch 7/20\n",
      "1498/1500 [============================>.] - ETA: 0s - loss: 0.2139 - accuracy: 0.9225\n",
      "Epoch 7: val_loss improved from 0.22151 to 0.21928, saving model to ../data\\best_cnn_model.h5\n",
      "1500/1500 [==============================] - 38s 25ms/step - loss: 0.2139 - accuracy: 0.9225 - val_loss: 0.2193 - val_accuracy: 0.9180\n",
      "Epoch 8/20\n",
      "1499/1500 [============================>.] - ETA: 0s - loss: 0.2001 - accuracy: 0.9261\n",
      "Epoch 8: val_loss did not improve from 0.21928\n",
      "1500/1500 [==============================] - 35s 23ms/step - loss: 0.2001 - accuracy: 0.9262 - val_loss: 0.2260 - val_accuracy: 0.9208\n",
      "Epoch 9/20\n",
      "1500/1500 [==============================] - ETA: 0s - loss: 0.1834 - accuracy: 0.9323\n",
      "Epoch 9: val_loss did not improve from 0.21928\n",
      "Restoring model weights from the end of the best epoch: 7.\n",
      "1500/1500 [==============================] - 36s 24ms/step - loss: 0.1834 - accuracy: 0.9323 - val_loss: 0.2256 - val_accuracy: 0.9175\n",
      "Epoch 9: early stopping\n"
     ]
    }
   ],
   "source": [
    "model.compile(loss='sparse_categorical_crossentropy', metrics='accuracy', optimizer='adam')\n",
    "\n",
    "checkpoint_cb = keras.callbacks.ModelCheckpoint('../data/best_cnn_model.h5', save_best_only=True, verbose=1)\n",
    "early_stopping_cb = keras.callbacks.EarlyStopping(patience=2, restore_best_weights=True, verbose=1)\n",
    "history = model.fit(train_scaled, train_target, epochs=20, verbose=1,\n",
    "                    validation_data=(val_scaled, val_target), callbacks=[checkpoint_cb, early_stopping_cb])"
   ]
  },
  {
   "cell_type": "code",
   "execution_count": 19,
   "metadata": {},
   "outputs": [
    {
     "data": {
      "image/png": "[encoded data removed]",
      "text/plain": [
       "<Figure size 720x360 with 1 Axes>"
      ]
     },
     "metadata": {
      "needs_background": "light"
     },
     "output_type": "display_data"
    }
   ],
   "source": [
    "plt.figure(figsize=(10, 5))\n",
    "\n",
    "plt.plot(history.history['loss'])\n",
    "plt.plot(history.history['val_loss'])\n",
    "\n",
    "plt.show()"
   ]
  },
  {
   "cell_type": "code",
   "execution_count": 20,
   "metadata": {},
   "outputs": [
    {
     "data": {
      "text/plain": [
       "8"
      ]
     },
     "execution_count": 20,
     "metadata": {},
     "output_type": "execute_result"
    }
   ],
   "source": [
    "early_stopping_cb.stopped_epoch"
   ]
  },
  {
   "cell_type": "code",
   "execution_count": 21,
   "metadata": {},
   "outputs": [
    {
     "name": "stdout",
     "output_type": "stream",
     "text": [
      "375/375 [==============================] - 2s 6ms/step - loss: 0.2193 - accuracy: 0.9180\n"
     ]
    },
    {
     "data": {
      "text/plain": [
       "[0.21928365528583527, 0.9179999828338623]"
      ]
     },
     "execution_count": 21,
     "metadata": {},
     "output_type": "execute_result"
    }
   ],
   "source": [
    "model.evaluate(val_scaled, val_target)"
   ]
  },
  {
   "cell_type": "code",
   "execution_count": 22,
   "metadata": {},
   "outputs": [
    {
     "data": {
      "image/png": "[encoded data removed]",
      "text/plain": [
       "<Figure size 432x288 with 1 Axes>"
      ]
     },
     "metadata": {
      "needs_background": "light"
     },
     "output_type": "display_data"
    }
   ],
   "source": [
    "plt.imshow(X=val_scaled[0].reshape(28, 28), cmap='gray_r')\n",
    "plt.show()"
   ]
  },
  {
   "cell_type": "code",
   "execution_count": 23,
   "metadata": {},
   "outputs": [
    {
     "name": "stdout",
     "output_type": "stream",
     "text": [
      "1/1 [==============================] - 0s 93ms/step\n"
     ]
    },
    {
     "data": {
      "text/plain": [
       "array([[7.0805739e-16, 9.7028408e-23, 8.7957154e-19, 3.0677120e-18,\n",
       "        4.8295794e-17, 2.6404645e-15, 1.5505016e-17, 1.3118710e-14,\n",
       "        1.0000000e+00, 7.2726328e-17]], dtype=float32)"
      ]
     },
     "execution_count": 23,
     "metadata": {},
     "output_type": "execute_result"
    }
   ],
   "source": [
    "# 예측\n",
    "result = model.predict(val_scaled[0:1])\n",
    "result"
   ]
  },
  {
   "cell_type": "code",
   "execution_count": 24,
   "metadata": {},
   "outputs": [
    {
     "name": "stdout",
     "output_type": "stream",
     "text": [
      "1/1 [==============================] - 0s 20ms/step\n"
     ]
    },
    {
     "data": {
      "text/plain": [
       "array([8], dtype=int64)"
      ]
     },
     "execution_count": 24,
     "metadata": {},
     "output_type": "execute_result"
    }
   ],
   "source": [
    "val_labels = np.argmax(model.predict(val_scaled[0:1]), axis=-1)\n",
    "val_labels"
   ]
  },
  {
   "cell_type": "code",
   "execution_count": 25,
   "metadata": {},
   "outputs": [],
   "source": [
    "classes = ['티셔츠', '바지', '스웨터', '드레스', '코트', '샌달', '셔츠', '스니커즈', '가방', '앵클부츠']"
   ]
  },
  {
   "cell_type": "code",
   "execution_count": 26,
   "metadata": {},
   "outputs": [
    {
     "name": "stdout",
     "output_type": "stream",
     "text": [
      "가방\n"
     ]
    }
   ],
   "source": [
    "print(classes[np.argmax(result)])"
   ]
  }
 ],
 "metadata": {
  "kernelspec": {
   "display_name": "Python 3.10.5 64-bit (windows store)",
   "language": "python",
   "name": "python3"
  },
  "language_info": {
   "codemirror_mode": {
    "name": "ipython",
    "version": 3
   },
   "file_extension": ".py",
   "mimetype": "text/x-python",
   "name": "python",
   "nbconvert_exporter": "python",
   "pygments_lexer": "ipython3",
   "version": "3.10.5"
  },
  "orig_nbformat": 4,
  "vscode": {
   "interpreter": {
    "hash": "8bf0d51478355d2251941b3b98616086516a0eddd7c72ee47a3371765770709a"
   }
  }
 },
 "nbformat": 4,
 "nbformat_minor": 2
}
